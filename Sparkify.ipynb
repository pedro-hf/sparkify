{
 "cells": [
  {
   "cell_type": "markdown",
   "metadata": {},
   "source": [
    "# Sparkify Project Workspace\n",
    "This notebook will be run on a small sized dataset provided (128 MB), and it will be used as a playground before deploying the cluster to the cloud."
   ]
  },
  {
   "cell_type": "code",
   "execution_count": 1,
   "metadata": {},
   "outputs": [
    {
     "name": "stdout",
     "output_type": "stream",
     "text": [
      "Requirement already satisfied: ua-parser in /anaconda3/envs/sparkify/lib/python3.7/site-packages (0.8.0)\r\n"
     ]
    }
   ],
   "source": [
    "# Import modules\n",
    "from pyspark.sql import SparkSession\n",
    "from pyspark.sql.functions import udf, asc, desc, col, collect_list, collect_set, when, window\n",
    "from pyspark.sql.functions import broadcast\n",
    "from pyspark.ml.feature import StringIndexer, VectorAssembler, OneHotEncoder, MinMaxScaler\n",
    "from pyspark.sql.types import IntegerType, StringType, TimestampType, LongType \n",
    "from pyspark.mllib.linalg import Vectors, VectorUDT, Vector\n",
    "from pyspark.sql.window import Window\n",
    "from pyspark.sql.functions import mean, count, avg\n",
    "from pyspark.sql.functions import max as Fmax, concat\n",
    "from pyspark.sql.functions import sum as Fsum\n",
    "from pyspark.ml.stat import Summarizer\n",
    "from pyspark.ml.tuning import CrossValidator, ParamGridBuilder, TrainValidationSplit\n",
    "from functools import reduce\n",
    "import warnings\n",
    "\n",
    "from pyspark.ml import Pipeline\n",
    "from pyspark.ml.classification import RandomForestClassifier, RandomForestClassificationModel, MultilayerPerceptronClassifier\n",
    "from pyspark.ml.classification import LogisticRegression\n",
    "from pyspark.ml.feature import IndexToString, VectorIndexer \n",
    "from pyspark.ml.evaluation import  MulticlassClassificationEvaluator, BinaryClassificationEvaluator\n",
    "from pyspark.sql.types import LongType, StructField, StructType\n",
    "from pyspark.ml.evaluation import Evaluator\n",
    "\n",
    "from datetime import datetime\n",
    "import numpy as np\n",
    "import pandas as pd\n",
    "import matplotlib.pyplot as plt\n",
    "%matplotlib inline\n",
    "\n",
    "!pip install  ua-parser\n",
    "from ua_parser import user_agent_parser"
   ]
  },
  {
   "cell_type": "code",
   "execution_count": 2,
   "metadata": {},
   "outputs": [],
   "source": [
    "# create a Spark session locally on my machine\n",
    "spark = SparkSession \\\n",
    "    .builder \\\n",
    "    .config(\"spark.driver.memory\", \"8g\") \\\n",
    "    .master(\"local\") \\\n",
    "    .appName(\"Sparkify\") \\\n",
    "    .getOrCreate()"
   ]
  },
  {
   "cell_type": "code",
   "execution_count": 3,
   "metadata": {},
   "outputs": [
    {
     "data": {
      "text/html": [
       "\n",
       "            <div>\n",
       "                <p><b>SparkSession - in-memory</b></p>\n",
       "                \n",
       "        <div>\n",
       "            <p><b>SparkContext</b></p>\n",
       "\n",
       "            <p><a href=\"http://172.25.22.60:4040\">Spark UI</a></p>\n",
       "\n",
       "            <dl>\n",
       "              <dt>Version</dt>\n",
       "                <dd><code>v2.4.0</code></dd>\n",
       "              <dt>Master</dt>\n",
       "                <dd><code>local</code></dd>\n",
       "              <dt>AppName</dt>\n",
       "                <dd><code>Sparkify</code></dd>\n",
       "            </dl>\n",
       "        </div>\n",
       "        \n",
       "            </div>\n",
       "        "
      ],
      "text/plain": [
       "<pyspark.sql.session.SparkSession at 0x1139abd68>"
      ]
     },
     "execution_count": 3,
     "metadata": {},
     "output_type": "execute_result"
    }
   ],
   "source": [
    "spark"
   ]
  },
  {
   "cell_type": "markdown",
   "metadata": {},
   "source": [
    "# Load and Clean Dataset\n",
    "I will load the dataset to a spark dataframe and investigate it."
   ]
  },
  {
   "cell_type": "code",
   "execution_count": 4,
   "metadata": {},
   "outputs": [],
   "source": [
    "# Read json file\n",
    "event_log = spark.read.json('mini_sparkify_event_data.json')"
   ]
  },
  {
   "cell_type": "code",
   "execution_count": 5,
   "metadata": {},
   "outputs": [
    {
     "name": "stdout",
     "output_type": "stream",
     "text": [
      "root\n",
      " |-- artist: string (nullable = true)\n",
      " |-- auth: string (nullable = true)\n",
      " |-- firstName: string (nullable = true)\n",
      " |-- gender: string (nullable = true)\n",
      " |-- itemInSession: long (nullable = true)\n",
      " |-- lastName: string (nullable = true)\n",
      " |-- length: double (nullable = true)\n",
      " |-- level: string (nullable = true)\n",
      " |-- location: string (nullable = true)\n",
      " |-- method: string (nullable = true)\n",
      " |-- page: string (nullable = true)\n",
      " |-- registration: long (nullable = true)\n",
      " |-- sessionId: long (nullable = true)\n",
      " |-- song: string (nullable = true)\n",
      " |-- status: long (nullable = true)\n",
      " |-- ts: long (nullable = true)\n",
      " |-- userAgent: string (nullable = true)\n",
      " |-- userId: string (nullable = true)\n",
      "\n"
     ]
    }
   ],
   "source": [
    "# Look as the schema\n",
    "event_log.printSchema()"
   ]
  },
  {
   "cell_type": "code",
   "execution_count": 6,
   "metadata": {},
   "outputs": [
    {
     "name": "stdout",
     "output_type": "stream",
     "text": [
      "There are 18 features\n"
     ]
    }
   ],
   "source": [
    "# Get the field/features names as a list\n",
    "fields = event_log.schema.names\n",
    "print('There are {} features'.format(len(fields)))"
   ]
  },
  {
   "cell_type": "code",
   "execution_count": 7,
   "metadata": {},
   "outputs": [
    {
     "name": "stdout",
     "output_type": "stream",
     "text": [
      "+--------------------+---------+---------+------+-------------+--------+---------+-----+--------------------+\n",
      "|              artist|     auth|firstName|gender|itemInSession|lastName|   length|level|            location|\n",
      "+--------------------+---------+---------+------+-------------+--------+---------+-----+--------------------+\n",
      "|      Martha Tilston|Logged In|    Colin|     M|           50| Freeman|277.89016| paid|     Bakersfield, CA|\n",
      "|    Five Iron Frenzy|Logged In|    Micah|     M|           79|    Long|236.09424| free|Boston-Cambridge-...|\n",
      "|        Adam Lambert|Logged In|    Colin|     M|           51| Freeman| 282.8273| paid|     Bakersfield, CA|\n",
      "|              Enigma|Logged In|    Micah|     M|           80|    Long|262.71302| free|Boston-Cambridge-...|\n",
      "|           Daft Punk|Logged In|    Colin|     M|           52| Freeman|223.60771| paid|     Bakersfield, CA|\n",
      "|The All-American ...|Logged In|    Micah|     M|           81|    Long|208.29995| free|Boston-Cambridge-...|\n",
      "|The Velvet Underg...|Logged In|    Micah|     M|           82|    Long|260.46649| free|Boston-Cambridge-...|\n",
      "|        Starflyer 59|Logged In|    Colin|     M|           53| Freeman|185.44281| paid|     Bakersfield, CA|\n",
      "|                null|Logged In|    Colin|     M|           54| Freeman|     null| paid|     Bakersfield, CA|\n",
      "|            Frumpies|Logged In|    Colin|     M|           55| Freeman|134.47791| paid|     Bakersfield, CA|\n",
      "|        Britt Nicole|Logged In|    Micah|     M|           83|    Long| 229.8771| free|Boston-Cambridge-...|\n",
      "|                null|Logged In|    Micah|     M|           84|    Long|     null| free|Boston-Cambridge-...|\n",
      "|Edward Sharpe & T...|Logged In|    Colin|     M|           56| Freeman|223.58159| paid|     Bakersfield, CA|\n",
      "|               Tesla|Logged In|    Micah|     M|           85|    Long|201.06404| free|Boston-Cambridge-...|\n",
      "|                null|Logged In|    Micah|     M|           86|    Long|     null| free|Boston-Cambridge-...|\n",
      "|         Stan Mosley|Logged In|    Colin|     M|           57| Freeman|246.69995| paid|     Bakersfield, CA|\n",
      "|Florence + The Ma...|Logged In|    Micah|     M|           87|    Long|168.64608| free|Boston-Cambridge-...|\n",
      "|   Tokyo Police Club|Logged In|  Ashlynn|     F|            0|Williams| 166.1122| free|     Tallahassee, FL|\n",
      "|             Orishas|Logged In|    Colin|     M|           58| Freeman|222.22322| paid|     Bakersfield, CA|\n",
      "|             Ratatat|Logged In|    Micah|     M|           88|    Long|229.77261| free|Boston-Cambridge-...|\n",
      "+--------------------+---------+---------+------+-------------+--------+---------+-----+--------------------+\n",
      "only showing top 20 rows\n",
      "\n"
     ]
    }
   ],
   "source": [
    "# Get a first look at the data\n",
    "event_log.select(fields[:9]).show()"
   ]
  },
  {
   "cell_type": "code",
   "execution_count": 8,
   "metadata": {},
   "outputs": [
    {
     "name": "stdout",
     "output_type": "stream",
     "text": [
      "+---------------+-------------+---------+--------------------+------+-------------+--------------------+------+\n",
      "|           page| registration|sessionId|                song|status|           ts|           userAgent|userId|\n",
      "+---------------+-------------+---------+--------------------+------+-------------+--------------------+------+\n",
      "|       NextSong|1538173362000|       29|           Rockpools|   200|1538352117000|Mozilla/5.0 (Wind...|    30|\n",
      "|       NextSong|1538331630000|        8|              Canada|   200|1538352180000|\"Mozilla/5.0 (Win...|     9|\n",
      "|       NextSong|1538173362000|       29|   Time For Miracles|   200|1538352394000|Mozilla/5.0 (Wind...|    30|\n",
      "|       NextSong|1538331630000|        8|Knocking On Forbi...|   200|1538352416000|\"Mozilla/5.0 (Win...|     9|\n",
      "|       NextSong|1538173362000|       29|Harder Better Fas...|   200|1538352676000|Mozilla/5.0 (Wind...|    30|\n",
      "|       NextSong|1538331630000|        8|      Don't Leave Me|   200|1538352678000|\"Mozilla/5.0 (Win...|     9|\n",
      "|       NextSong|1538331630000|        8|         Run Run Run|   200|1538352886000|\"Mozilla/5.0 (Win...|     9|\n",
      "|       NextSong|1538173362000|       29|Passengers (Old A...|   200|1538352899000|Mozilla/5.0 (Wind...|    30|\n",
      "|Add to Playlist|1538173362000|       29|                null|   200|1538352905000|Mozilla/5.0 (Wind...|    30|\n",
      "|       NextSong|1538173362000|       29|          Fuck Kitty|   200|1538353084000|Mozilla/5.0 (Wind...|    30|\n",
      "|       NextSong|1538331630000|        8|   Walk On The Water|   200|1538353146000|\"Mozilla/5.0 (Win...|     9|\n",
      "|    Roll Advert|1538331630000|        8|                null|   200|1538353150000|\"Mozilla/5.0 (Win...|     9|\n",
      "|       NextSong|1538173362000|       29|                Jade|   200|1538353218000|Mozilla/5.0 (Wind...|    30|\n",
      "|       NextSong|1538331630000|        8|      Gettin' Better|   200|1538353375000|\"Mozilla/5.0 (Win...|     9|\n",
      "|      Thumbs Up|1538331630000|        8|                null|   307|1538353376000|\"Mozilla/5.0 (Win...|     9|\n",
      "|       NextSong|1538173362000|       29|   So-Called Friends|   200|1538353441000|Mozilla/5.0 (Wind...|    30|\n",
      "|       NextSong|1538331630000|        8| You've Got The Love|   200|1538353576000|\"Mozilla/5.0 (Win...|     9|\n",
      "|       NextSong|1537365219000|      217|Citizens Of Tomorrow|   200|1538353668000|\"Mozilla/5.0 (Mac...|    74|\n",
      "|       NextSong|1538173362000|       29|           Represent|   200|1538353687000|Mozilla/5.0 (Wind...|    30|\n",
      "|       NextSong|1538331630000|        8|              Swisha|   200|1538353744000|\"Mozilla/5.0 (Win...|     9|\n",
      "+---------------+-------------+---------+--------------------+------+-------------+--------------------+------+\n",
      "only showing top 20 rows\n",
      "\n"
     ]
    }
   ],
   "source": [
    "event_log.select(fields[10:]).show()"
   ]
  },
  {
   "cell_type": "code",
   "execution_count": 9,
   "metadata": {},
   "outputs": [],
   "source": [
    "df = event_log.select(['ts']).describe().toPandas().set_index('summary')"
   ]
  },
  {
   "cell_type": "code",
   "execution_count": 10,
   "metadata": {},
   "outputs": [
    {
     "name": "stdout",
     "output_type": "stream",
     "text": [
      "First time stamp is at 2018-10-01 00:01:57\n",
      "Last time stamp is at 2018-12-03 01:11:16\n"
     ]
    }
   ],
   "source": [
    "ts_min = int(df.loc['min'].values[0])/1000\n",
    "ts_max = int(df.loc['max'].values[0])/1000\n",
    "\n",
    "print('First time stamp is at {}'.format(datetime.utcfromtimestamp(ts_min).strftime('%Y-%m-%d %H:%M:%S')))\n",
    "print('Last time stamp is at {}'.format(datetime.utcfromtimestamp(ts_max).strftime('%Y-%m-%d %H:%M:%S')))"
   ]
  },
  {
   "cell_type": "code",
   "execution_count": 11,
   "metadata": {},
   "outputs": [
    {
     "name": "stdout",
     "output_type": "stream",
     "text": [
      "There are 286500 events\n"
     ]
    }
   ],
   "source": [
    "print('There are {} events'.format(event_log.count()))"
   ]
  },
  {
   "cell_type": "markdown",
   "metadata": {},
   "source": [
    "## Description of the dataset\n",
    "The event data has 286500 and 18 features, worth 2 months of data between October and November 2018.\n",
    "The following features are present:\n",
    "\n",
    "* __Artist__: Artist of the song being played, if the event does not concert listening to a song the field is null\n",
    "* __auth (authentication)__: Whether the user Logged in or Logged out, cancelled or guest.\n",
    "* __firstName__: first name of the user. Null if user has not logged in.\n",
    "* __gender__: gender of the user (M/F), null if the user has not logged in.\n",
    "* __itemInSession__: number of events so far in the session. Starts in 0.\n",
    "* __lastName__: last name of the user. Null if user has not logged in.\n",
    "* __length__: length of the song (seconds). if the event does not concert listening to a song the field is null.\n",
    "* __level__: wether the user has a paid subscription of free. (paid/free)\n",
    "* __location__: location of the user. Seems to be associated to a user.\n",
    "* __page__: page where the event took place.\n",
    "* __registration__: registration number associated with each user.\n",
    "* __sessionId__: number of the session initiated.\n",
    "* __song__: name of the song being played.\n",
    "* __status__: http status code (200, 307, 404)\n",
    "* __ts__: timestamp (ms)\n",
    "* __userAgent__: information about the device and browser accessing the data.\n",
    "* __userId__: Id associated with each user."
   ]
  },
  {
   "cell_type": "code",
   "execution_count": 12,
   "metadata": {},
   "outputs": [],
   "source": [
    "assert event_log.count() == event_log.dropDuplicates().count(), 'Oops, we have duplicates in our data'"
   ]
  },
  {
   "cell_type": "markdown",
   "metadata": {},
   "source": [
    "There are no duplicate events"
   ]
  },
  {
   "cell_type": "code",
   "execution_count": 13,
   "metadata": {},
   "outputs": [
    {
     "name": "stdout",
     "output_type": "stream",
     "text": [
      "2.9 % of events have missing userId\n"
     ]
    }
   ],
   "source": [
    "print('{:.1f} % of events have missing userId' \\\n",
    "      .format(event_log.where(event_log.userId == '').count() / event_log.count() * 100))"
   ]
  },
  {
   "cell_type": "markdown",
   "metadata": {},
   "source": [
    "I will remove all the rows without userId. It would be possible to impute some of them through the sessionId, but not all of the sessions have only one user. There might be ways to impute the values taking into account userAgents, but since I do not know for sure the relations between features I risk getting null values with larger data sets. For simplicity and robustness I will remove all the rows without a userId."
   ]
  },
  {
   "cell_type": "code",
   "execution_count": 14,
   "metadata": {},
   "outputs": [],
   "source": [
    "event_log = event_log.where(event_log.userId != '')"
   ]
  },
  {
   "cell_type": "code",
   "execution_count": 15,
   "metadata": {},
   "outputs": [
    {
     "name": "stdout",
     "output_type": "stream",
     "text": [
      "After removing empty usersIds we have 278154 events\n"
     ]
    }
   ],
   "source": [
    "print('After removing empty usersIds we have {} events'.format(event_log.count()))"
   ]
  },
  {
   "cell_type": "markdown",
   "metadata": {},
   "source": [
    "# Exploratory Data Analysis\n",
    "In this section we will have a closer look at our features and we will understand how the features relate to each other.  We will start by looking at the data and then we will proceed to define __churn__.\n",
    "\n",
    "## Explore Data\n",
    "\n",
    "### Single feature analysis"
   ]
  },
  {
   "cell_type": "code",
   "execution_count": 16,
   "metadata": {},
   "outputs": [
    {
     "name": "stdout",
     "output_type": "stream",
     "text": [
      "artist has 17656 unique values\n",
      "auth has 2 unique values\n",
      "firstName has 189 unique values\n",
      "gender has 2 unique values\n",
      "itemInSession has 1311 unique values\n",
      "lastName has 173 unique values\n",
      "length has 14866 unique values\n",
      "level has 2 unique values\n",
      "location has 114 unique values\n",
      "method has 2 unique values\n",
      "page has 19 unique values\n",
      "registration has 225 unique values\n",
      "sessionId has 2312 unique values\n",
      "song has 58481 unique values\n",
      "status has 3 unique values\n",
      "ts has 269770 unique values\n",
      "userAgent has 56 unique values\n",
      "userId has 225 unique values\n"
     ]
    }
   ],
   "source": [
    "cat_fields = []\n",
    "for field in fields:\n",
    "    n = event_log.select([field]).distinct().count()\n",
    "    print('{} has {} unique values'.format(field, n))\n",
    "    if n < 25:\n",
    "        cat_fields.append(field)"
   ]
  },
  {
   "cell_type": "code",
   "execution_count": 17,
   "metadata": {},
   "outputs": [
    {
     "name": "stdout",
     "output_type": "stream",
     "text": [
      "+--------------------+\n",
      "|                page|\n",
      "+--------------------+\n",
      "|              Cancel|\n",
      "|    Submit Downgrade|\n",
      "|         Thumbs Down|\n",
      "|                Home|\n",
      "|           Downgrade|\n",
      "|         Roll Advert|\n",
      "|              Logout|\n",
      "|       Save Settings|\n",
      "|Cancellation Conf...|\n",
      "|               About|\n",
      "|            Settings|\n",
      "|     Add to Playlist|\n",
      "|          Add Friend|\n",
      "|            NextSong|\n",
      "|           Thumbs Up|\n",
      "|                Help|\n",
      "|             Upgrade|\n",
      "|               Error|\n",
      "|      Submit Upgrade|\n",
      "+--------------------+\n",
      "\n"
     ]
    }
   ],
   "source": [
    "event_log.select(['page']).distinct().show(19)"
   ]
  },
  {
   "cell_type": "code",
   "execution_count": 27,
   "metadata": {},
   "outputs": [
    {
     "data": {
      "image/png": "[encoded data removed]",
      "text/plain": [
       "<Figure size 864x720 with 6 Axes>"
      ]
     },
     "metadata": {
      "needs_background": "light"
     },
     "output_type": "display_data"
    }
   ],
   "source": [
    "fig, axs = plt.subplots(len(cat_fields)//2,2, figsize=(12,10))\n",
    "axs = [item for sublist in axs for item in sublist]\n",
    "N = event_log.count()\n",
    "for ax, field in zip(axs, cat_fields):\n",
    "    df = event_log.groupBy(field).count().sort(desc('count')).toPandas()\n",
    "    df['count'] = df['count'] / N * 100 \n",
    "    df.set_index(field).iloc[:10].plot.barh(ax=ax, fontsize=12, legend=False, grid=True)\n",
    "    ax.set_xlim([0, 100])\n",
    "    ax.yaxis.label.set_fontsize(14)\n",
    "    \n",
    "fig.tight_layout()"
   ]
  },
  {
   "cell_type": "code",
   "execution_count": 24,
   "metadata": {},
   "outputs": [],
   "source": [
    "fig.savefig('pictures/categorical_features_barplot.png')"
   ]
  },
  {
   "cell_type": "code",
   "execution_count": 76,
   "metadata": {},
   "outputs": [],
   "source": [
    "def spark_hist(x, data, bins=11):\n",
    "    hist = data.select(x).dropna().rdd.flatMap(lambda x: x).histogram(bins)\n",
    "    hist_round = zip(list(np.round(hist[0], 1)), hist[1])\n",
    "    fig, ax = plt.subplots(figsize=(12,6))\n",
    "    pd.DataFrame(\n",
    "        hist_round, \n",
    "        columns=['bin', 'frequency']\n",
    "    ).set_index(\n",
    "        'bin'\n",
    "    ).plot(kind='bar', width =1, label=x, ax=ax);\n",
    "    plt.title(x)\n",
    "    plt.xlabel('seconds')\n",
    "    plt.xlim([0, bins // 3])\n",
    "    plt.grid()\n",
    "    return fig"
   ]
  },
  {
   "cell_type": "code",
   "execution_count": 77,
   "metadata": {},
   "outputs": [
    {
     "data": {
      "image/png": "[encoded data removed]",
      "text/plain": [
       "<Figure size 864x432 with 1 Axes>"
      ]
     },
     "metadata": {
      "needs_background": "light"
     },
     "output_type": "display_data"
    }
   ],
   "source": [
    "fig = spark_hist(x='length', data=event_log, bins=100)"
   ]
  },
  {
   "cell_type": "code",
   "execution_count": 78,
   "metadata": {},
   "outputs": [],
   "source": [
    "fig.savefig('pictures/length_hist.png')"
   ]
  },
  {
   "cell_type": "code",
   "execution_count": 79,
   "metadata": {},
   "outputs": [
    {
     "name": "stdout",
     "output_type": "stream",
     "text": [
      "+-------+-----------------+\n",
      "|summary|           length|\n",
      "+-------+-----------------+\n",
      "|  count|           228108|\n",
      "|   mean|249.1171819778458|\n",
      "| stddev|99.23517921058361|\n",
      "|    min|          0.78322|\n",
      "|    max|       3024.66567|\n",
      "+-------+-----------------+\n",
      "\n"
     ]
    }
   ],
   "source": [
    "event_log.select('length').dropna().describe().show()"
   ]
  },
  {
   "cell_type": "code",
   "execution_count": 87,
   "metadata": {},
   "outputs": [
    {
     "name": "stdout",
     "output_type": "stream",
     "text": [
      "Quant. 0.25: 204.7s, Quant. 0.5: 221.8s, Quant. 0.75: 258.5s\n"
     ]
    }
   ],
   "source": [
    "[ q25, q50, q75] = event_log.approxQuantile(\"length\", [ 0.25, 0.5, 0.75], 0.1)\n",
    "print('Quant. 0.25: {:.1f}s, Quant. 0.5: {:.1f}s, Quant. 0.75: {:.1f}s'\\\n",
    "      .format(q25, q50, q75))"
   ]
  },
  {
   "cell_type": "code",
   "execution_count": 88,
   "metadata": {},
   "outputs": [
    {
     "name": "stdout",
     "output_type": "stream",
     "text": [
      "+--------------------+-----------+\n",
      "|                song|min(length)|\n",
      "+--------------------+-----------+\n",
      "|Never Gonna Be Al...|  227.18649|\n",
      "|         TULENLIEKKI|  166.55628|\n",
      "|      Underwaterboys|  290.84689|\n",
      "|Saor (Free)/News ...|  501.10649|\n",
      "|               New E|  259.44771|\n",
      "+--------------------+-----------+\n",
      "only showing top 5 rows\n",
      "\n"
     ]
    }
   ],
   "source": [
    "event_log.select(['song', 'length']).groupBy('song').min().show(5)"
   ]
  },
  {
   "cell_type": "code",
   "execution_count": 94,
   "metadata": {},
   "outputs": [
    {
     "name": "stdout",
     "output_type": "stream",
     "text": [
      "+--------------------+--------------------+-----+\n",
      "|                song|              artist|count|\n",
      "+--------------------+--------------------+-----+\n",
      "|      You're The One|       Dwight Yoakam| 1122|\n",
      "|                Undo|            BjÃÂ¶rk| 1026|\n",
      "|             Revelry|       Kings Of Leon|  854|\n",
      "|       Sehr kosmisch|            Harmonia|  728|\n",
      "|Horn Concerto No....|Barry Tuckwell/Ac...|  641|\n",
      "+--------------------+--------------------+-----+\n",
      "only showing top 5 rows\n",
      "\n",
      "+--------------------+-----+\n",
      "|              artist|count|\n",
      "+--------------------+-----+\n",
      "|       Kings Of Leon| 1841|\n",
      "|            Coldplay| 1813|\n",
      "|Florence + The Ma...| 1236|\n",
      "|       Dwight Yoakam| 1135|\n",
      "|            BjÃÂ¶rk| 1133|\n",
      "+--------------------+-----+\n",
      "only showing top 5 rows\n",
      "\n"
     ]
    }
   ],
   "source": [
    "# Top songs and artists\n",
    "event_log.dropna().groupBy(['song', 'artist']).count().sort(desc('count')).show(5)\n",
    "event_log.dropna().groupBy(['artist']).count().sort(desc('count')).show(5)"
   ]
  },
  {
   "cell_type": "code",
   "execution_count": 95,
   "metadata": {},
   "outputs": [
    {
     "data": {
      "text/plain": [
       "[Row(song=\"You're The One\", artist='Dwight Yoakam', count=1122),\n",
       " Row(song='Undo', artist='BjÃ\\x83Â¶rk', count=1026),\n",
       " Row(song='Revelry', artist='Kings Of Leon', count=854),\n",
       " Row(song='Sehr kosmisch', artist='Harmonia', count=728),\n",
       " Row(song='Horn Concerto No. 4 in E flat K495: II. Romance (Andante cantabile)', artist='Barry Tuckwell/Academy of St Martin-in-the-Fields/Sir Neville Marriner', count=641)]"
      ]
     },
     "execution_count": 95,
     "metadata": {},
     "output_type": "execute_result"
    }
   ],
   "source": [
    "event_log.dropna().groupBy(['song', 'artist']).count().sort(desc('count')).take(5)"
   ]
  },
  {
   "cell_type": "code",
   "execution_count": 106,
   "metadata": {},
   "outputs": [],
   "source": [
    "count_users = udf(lambda l: len(l), IntegerType())\n",
    "session_user = event_log.select(col('sessionId'), event_log.userId.cast('float').alias('userId')) \\\n",
    "                        .groupBy('sessionId')\\\n",
    "                        .agg(collect_set(\"userId\")) \n",
    "session_user  = session_user.withColumn(\"usersPerSession\", count_users(session_user['collect_set(userId)']))\n",
    "userpersession_df = session_user.groupBy('UsersPerSession').count().toPandas()"
   ]
  },
  {
   "cell_type": "code",
   "execution_count": 107,
   "metadata": {},
   "outputs": [
    {
     "data": {
      "text/html": [
       "<style  type=\"text/css\" >\n",
       "    #T_2eb4652e_5779_11e9_b630_acde48001122row0_col0 {\n",
       "            width:  10em;\n",
       "             height:  80%;\n",
       "            background:  linear-gradient(90deg,#d65f5f 100.0%, transparent 100.0%);\n",
       "        }    #T_2eb4652e_5779_11e9_b630_acde48001122row1_col0 {\n",
       "            width:  10em;\n",
       "             height:  80%;\n",
       "            background:  linear-gradient(90deg,#d65f5f 9.3%, transparent 9.3%);\n",
       "        }    #T_2eb4652e_5779_11e9_b630_acde48001122row2_col0 {\n",
       "            width:  10em;\n",
       "             height:  80%;\n",
       "        }    #T_2eb4652e_5779_11e9_b630_acde48001122row3_col0 {\n",
       "            width:  10em;\n",
       "             height:  80%;\n",
       "            background:  linear-gradient(90deg,#d65f5f 3.8%, transparent 3.8%);\n",
       "        }</style><table id=\"T_2eb4652e_5779_11e9_b630_acde48001122\" ><thead>    <tr>        <th class=\"blank level0\" ></th>        <th class=\"col_heading level0 col0\" >share of sessions [%]</th>    </tr>    <tr>        <th class=\"index_name level0\" >UsersPerSession</th>        <th class=\"blank\" ></th>    </tr></thead><tbody>\n",
       "                <tr>\n",
       "                        <th id=\"T_2eb4652e_5779_11e9_b630_acde48001122level0_row0\" class=\"row_heading level0 row0\" >1</th>\n",
       "                        <td id=\"T_2eb4652e_5779_11e9_b630_acde48001122row0_col0\" class=\"data row0 col0\" >79.8443</td>\n",
       "            </tr>\n",
       "            <tr>\n",
       "                        <th id=\"T_2eb4652e_5779_11e9_b630_acde48001122level0_row1\" class=\"row_heading level0 row1\" >3</th>\n",
       "                        <td id=\"T_2eb4652e_5779_11e9_b630_acde48001122row1_col0\" class=\"data row1 col0\" >10.4671</td>\n",
       "            </tr>\n",
       "            <tr>\n",
       "                        <th id=\"T_2eb4652e_5779_11e9_b630_acde48001122level0_row2\" class=\"row_heading level0 row2\" >4</th>\n",
       "                        <td id=\"T_2eb4652e_5779_11e9_b630_acde48001122row2_col0\" class=\"data row2 col0\" >3.3737</td>\n",
       "            </tr>\n",
       "            <tr>\n",
       "                        <th id=\"T_2eb4652e_5779_11e9_b630_acde48001122level0_row3\" class=\"row_heading level0 row3\" >2</th>\n",
       "                        <td id=\"T_2eb4652e_5779_11e9_b630_acde48001122row3_col0\" class=\"data row3 col0\" >6.31488</td>\n",
       "            </tr>\n",
       "    </tbody></table>"
      ],
      "text/plain": [
       "<pandas.io.formats.style.Styler at 0x1178d6c18>"
      ]
     },
     "execution_count": 107,
     "metadata": {},
     "output_type": "execute_result"
    }
   ],
   "source": [
    "userpersession_df['share of sessions [%]'] = userpersession_df['count'] / userpersession_df['count'].sum()*100\n",
    "userpersession_df.drop('count', axis=1)\\\n",
    "                 .set_index('UsersPerSession')\\\n",
    "                 .style.bar(subset=['share of sessions [%]'], color='#d65f5f')"
   ]
  },
  {
   "cell_type": "code",
   "execution_count": 109,
   "metadata": {},
   "outputs": [
    {
     "data": {
      "text/plain": [
       "100.0"
      ]
     },
     "execution_count": 109,
     "metadata": {},
     "output_type": "execute_result"
    }
   ],
   "source": [
    "79.8 + 10.5 + 3.4 + 6.3"
   ]
  },
  {
   "cell_type": "markdown",
   "metadata": {},
   "source": [
    "In our medium sized data set, we have 225 users, 17656 artists and 58481 songs. _registration_, _userId_ and the combination of _first_ and _lastName_ have all 225 unique values.\n",
    "\n",
    "Most of our events are for paying users. There are more events by men than by women. Most of the events are listening \n",
    "to songs (NextSong page, PUT method and status 200)\n",
    "\n",
    "The median length of out songs is 222 seconds, with at least one of them beeing 3024 seconds and one being 0.78 seconds. The length refers to the time that song has been playing not the actual length of the song.\n",
    "\n",
    "Most of our sessions are one user only, however in some session there are up to 4 users.\n",
    "\n",
    "I will now try to look at the behaviour of users."
   ]
  },
  {
   "cell_type": "markdown",
   "metadata": {},
   "source": [
    "### User behaviour\n",
    "Let us try to look at the behaviour of some users:"
   ]
  },
  {
   "cell_type": "code",
   "execution_count": null,
   "metadata": {},
   "outputs": [],
   "source": [
    "indexer = StringIndexer(inputCol=\"level\", outputCol=\"paid\")\n",
    "event_log_paid = indexer.fit(event_log).transform(event_log)"
   ]
  },
  {
   "cell_type": "code",
   "execution_count": null,
   "metadata": {},
   "outputs": [],
   "source": [
    "random_users = event_log_paid.select(['userId']).rdd.takeSample(False, 9, seed=0)\n",
    "fig, axs = plt.subplots(3,3, figsize=(16,14))\n",
    "axs = [item for sublist in axs for item in sublist]\n",
    "for random_user, ax in zip(random_users, axs):\n",
    "    random_user = random_user[0]\n",
    "    random_user_event_log = event_log_paid.filter(event_log.userId == random_user)\n",
    "    df = random_user_event_log.select(['ts', 'paid']).toPandas()\n",
    "    df.set_index('ts').plot(marker='o', ax=ax)\n",
    "    ax.set_title(random_user)"
   ]
  },
  {
   "cell_type": "markdown",
   "metadata": {},
   "source": [
    "As we can see there are many kinds on users:\n",
    "* some pay and then stop or viceversa\n",
    "* others switch from paid to unpaid several times.\n",
    "* Some always pay or never pay\n",
    "\n",
    "Let's look at the cancellation confirmation and Downgrade page events:"
   ]
  },
  {
   "cell_type": "code",
   "execution_count": null,
   "metadata": {},
   "outputs": [],
   "source": [
    "cancelled_confirmed = udf(lambda x: 1 if x == 'Cancellation Confirmation' else 0, IntegerType())\n",
    "event_log_churn = event_log.withColumn(\"cancellation\", cancelled_confirmed(event_log.page))"
   ]
  },
  {
   "cell_type": "code",
   "execution_count": null,
   "metadata": {},
   "outputs": [],
   "source": [
    "event_log_churn.select(['userId', 'cancellation']).groupBy('userId').max().groupby('max(cancellation)').count().show()"
   ]
  },
  {
   "cell_type": "code",
   "execution_count": null,
   "metadata": {},
   "outputs": [],
   "source": [
    "user_cancel = event_log_churn.select(['userId', 'cancellation']).groupBy('userId').max()"
   ]
  },
  {
   "cell_type": "code",
   "execution_count": null,
   "metadata": {},
   "outputs": [],
   "source": [
    "users_that_cancelled = user_cancel.filter(user_cancel['max(cancellation)'] == 1).select(['userId'])"
   ]
  },
  {
   "cell_type": "code",
   "execution_count": null,
   "metadata": {},
   "outputs": [],
   "source": [
    "users_that_cancelled.count()"
   ]
  },
  {
   "cell_type": "code",
   "execution_count": null,
   "metadata": {},
   "outputs": [],
   "source": [
    "random_users = users_that_cancelled.rdd.takeSample(False, 9, seed=0)\n",
    "fig, axs = plt.subplots(3,3, figsize=(16,14))\n",
    "axs = [item for sublist in axs for item in sublist]\n",
    "for random_user, ax in zip(random_users, axs):\n",
    "    random_user = random_user[0]\n",
    "    random_user_event_log = event_log_churn.filter(event_log.userId == random_user)\n",
    "    df = random_user_event_log.select(['ts', 'cancellation']).toPandas()\n",
    "    df.set_index('ts').plot(marker='o', ax=ax)\n",
    "    ax.set_title(random_user)"
   ]
  },
  {
   "cell_type": "markdown",
   "metadata": {},
   "source": [
    "The people that go through a cancellation confimation page stop using the product under that user name. We have 52 users that cancelled and 173 that haven't cancelled."
   ]
  },
  {
   "cell_type": "code",
   "execution_count": null,
   "metadata": {},
   "outputs": [],
   "source": [
    "registration_submit = udf(lambda x: 1 if x == 'Submit Registration' else 0, IntegerType())\n",
    "event_log_reg = event_log.withColumn(\"reg_sub\", registration_submit(event_log.page))\n",
    "event_log_reg.select(['userId', 'reg_sub']).groupBy('userId').max().groupby('max(reg_sub)').count().show()"
   ]
  },
  {
   "cell_type": "markdown",
   "metadata": {},
   "source": [
    "It seems strange that all users have subit their registration within the time of logged events. I will assume that my data has data from registration for all users."
   ]
  },
  {
   "cell_type": "markdown",
   "metadata": {},
   "source": [
    "\n",
    "### Define Churn\n",
    "Churn will be defined as __user goes to the cancellation confirmation page.__ Each row of our dataset will be a user and the label whether that user ever went to the `cancellation confirmation page`.\n",
    "\n",
    "# Feature Engineering\n",
    "\n"
   ]
  },
  {
   "cell_type": "markdown",
   "metadata": {},
   "source": [
    "\n",
    "I will start by extracting new features to every event:\n",
    "* os (string): Operating system extracted from the userAgent\n",
    "* browser (string): Browswe used extracted from the userAgent\n",
    "* paid (integer): 1 or 0 based on the level feature. paid/free\n",
    "* state (string): state from location\n",
    "* day (int): day of the week the event took place (0 to 6, monday to sunday)\n",
    "* hour (int): hour of the day the event took place (0 to 23 hr)\n",
    "* is_female (int): whether the user is female"
   ]
  },
  {
   "cell_type": "code",
   "execution_count": null,
   "metadata": {},
   "outputs": [],
   "source": [
    "#  Function to use to one-hot encode some category features\n",
    "def is_value(x):\n",
    "    \"\"\"returns a user defined function that returns 1 when equal to x and 0 otherwise\"\"\"\n",
    "    return udf(lambda d: 1 if d == x else 0, IntegerType())"
   ]
  },
  {
   "cell_type": "code",
   "execution_count": null,
   "metadata": {},
   "outputs": [],
   "source": [
    "parse_browser = udf(lambda s: user_agent_parser.Parse(s)['user_agent']['family'] if s else None, StringType())\n",
    "parse_os = udf(lambda s: user_agent_parser.Parse(s)['os']['family'] if s else None, StringType())\n",
    "get_state = udf(lambda s: s.split(',')[1].strip() if s else None, StringType())\n",
    "get_day = udf(lambda t: datetime.utcfromtimestamp(int(t)/1000).weekday(), IntegerType())\n",
    "get_hour = udf(lambda t: datetime.utcfromtimestamp(int(t)/1000).hour, IntegerType())\n",
    "\n",
    "event_log0 = event_log.withColumn('browser', parse_browser(event_log.userAgent)) \\\n",
    "                           .withColumn('os', parse_os(event_log.userAgent)) \\\n",
    "                           .withColumn('paid', is_value('paid')(event_log.level)) \\\n",
    "                           .withColumn('state', get_state(event_log.location)) \\\n",
    "                           .withColumn('day', get_day(event_log.ts)) \\\n",
    "                           .withColumn('hour', get_hour(event_log.ts)) \\\n",
    "                           .withColumn('is_female', is_value('F')(event_log.gender)) \\\n",
    "                           .withColumn('cancellation', is_value('Cancellation Confirmation')(event_log.page))"
   ]
  },
  {
   "cell_type": "markdown",
   "metadata": {},
   "source": [
    "There are some states that have more than one state, like `'NY-NJ-PA'`. I will split these and obtain a list of all the unique state names in our data set."
   ]
  },
  {
   "cell_type": "code",
   "execution_count": null,
   "metadata": {},
   "outputs": [],
   "source": [
    "# Impute users with \"area\" states (several states)\n",
    "states = [st[0] for st in event_log0.select('state').dropna().distinct().collect()]\n",
    "\n",
    "clean_states = []\n",
    "area_states = []\n",
    "for state in states:\n",
    "    if '-' in state:\n",
    "        area_states.append(state)\n",
    "    else:\n",
    "        clean_states.append(state)\n",
    "\n",
    "extracted_states_from_areas = []\n",
    "for area in area_states:\n",
    "    extracted_states_from_areas += area.split('-')\n",
    "\n",
    "for state in extracted_states_from_areas:\n",
    "    if state not in clean_states:\n",
    "        clean_states.append(state)\n",
    "print('There is a total of {} \"states\"'.format(len(clean_states)))"
   ]
  },
  {
   "cell_type": "markdown",
   "metadata": {},
   "source": [
    "I will now one-hot encode to new features some categorical features: day, hour, page, state, os, browser.\n",
    "I will create my own one-hot encoding functions to have more control over the encoding."
   ]
  },
  {
   "cell_type": "code",
   "execution_count": null,
   "metadata": {},
   "outputs": [],
   "source": [
    "def is_in_area(st):\n",
    "    \"\"\"returns a user defined function that returns 1 when state is in an area\"\"\"\n",
    "    return udf(lambda a: 1 if (st in a) else 0, IntegerType())\n",
    "\n",
    "def one_hot_encode_state(df, states):\n",
    "    \"\"\"creates new features from the 'state' feature based on the list of states passed as argument\"\"\"\n",
    "    df_new = df\n",
    "    for state in states: \n",
    "        df_new = df_new.withColumn(\"{}_is_state\".format(state), \n",
    "                                   is_in_area(state)(df_new['state']))\n",
    "    return df_new"
   ]
  },
  {
   "cell_type": "code",
   "execution_count": null,
   "metadata": {},
   "outputs": [],
   "source": [
    "def one_hot_encode_to_columns(df, cat_feature):\n",
    "    \"\"\"Creates new features by one-hot encoding the 'cat_feature'\"\"\"\n",
    "    df_new = df\n",
    "    features = df.select([cat_feature]).distinct().collect()  # Get all unique categories\n",
    "    for feature in features:\n",
    "        feature = feature[0]  # Extract the string from the Row object\n",
    "        \n",
    "        if isinstance(feature, str): \n",
    "            feature_name = feature.replace(' ', '') # Remove spaces\n",
    "        else:\n",
    "            feature_name = feature  \n",
    "            \n",
    "        df_new = df_new.withColumn(\"{}_is_{}\".format(cat_feature, feature_name), \n",
    "                                   is_value(feature)(df_new[cat_feature]))\n",
    "    return df_new"
   ]
  },
  {
   "cell_type": "code",
   "execution_count": null,
   "metadata": {},
   "outputs": [],
   "source": [
    "is_weekend = udf(lambda d: 1 if d > 4 else 0, IntegerType())\n",
    "is_afternoon = udf(lambda h: 1 if h > 12 else 0, IntegerType())"
   ]
  },
  {
   "cell_type": "code",
   "execution_count": null,
   "metadata": {},
   "outputs": [],
   "source": [
    "# One hot encode state, page, state, os, browser\n",
    "# Creating 2 new features based on hour and day, wether the event took place on a weekend and if it was after 12:00pm\n",
    "event_log1 = event_log0\n",
    "event_log1 = one_hot_encode_to_columns(event_log1, 'page')\n",
    "event_log1 = one_hot_encode_to_columns(event_log1, 'os')\n",
    "event_log1 = one_hot_encode_to_columns(event_log1, 'browser')\n",
    "\n",
    "event_log1 = event_log1.fillna('missing', subset=['state'])\n",
    "event_log1 = one_hot_encode_state(event_log1, clean_states)\n",
    "\n",
    "event_log1 = event_log1.withColumn('isWeekend', is_weekend(event_log1.day)) \\\n",
    "                       .withColumn('isAfternoon', is_afternoon(event_log1.hour))"
   ]
  },
  {
   "cell_type": "markdown",
   "metadata": {},
   "source": [
    "Song and Artist will not be one hot encoded since they have far too many different values. Instead they will be indexed."
   ]
  },
  {
   "cell_type": "code",
   "execution_count": null,
   "metadata": {},
   "outputs": [],
   "source": [
    "# TODO: Fix the handleInvalid, its giving error further down\n",
    "# Index song and artist \n",
    "indexer_song = StringIndexer(inputCol=\"song\", outputCol=\"songRank\", handleInvalid='keep')\n",
    "event_log2 = indexer_song.fit(event_log1).transform(event_log1)\n",
    "\n",
    "indexer_artist = StringIndexer(inputCol=\"artist\", outputCol=\"artistRank\", handleInvalid='keep')\n",
    "event_log3 = indexer_artist.fit(event_log2).transform(event_log2)"
   ]
  },
  {
   "cell_type": "markdown",
   "metadata": {},
   "source": [
    "Finally, a new feature, __usersPerSession__ (int): number of users sharing a sessionId."
   ]
  },
  {
   "cell_type": "code",
   "execution_count": null,
   "metadata": {},
   "outputs": [],
   "source": [
    "# session user contains the number of users per session and a list of those users.\n",
    "count_users = udf(lambda l: len(l), IntegerType())\n",
    "session_user = event_log0.select(col('sessionId'), event_log.userId.cast('float').alias('userId')) \\\n",
    "                         .groupBy('sessionId')\\\n",
    "                         .agg(collect_set(\"userId\")) \n",
    "session_user  = session_user.withColumn(\"usersPerSession\", count_users(session_user['collect_set(userId)']))\n",
    "\n",
    "event_log4 = event_log3.join(broadcast(session_user), [\"sessionId\"], how='left') "
   ]
  },
  {
   "cell_type": "markdown",
   "metadata": {},
   "source": [
    "### Group by user features\n",
    "Now that we have created new features for each event we can start creating aggregated features for each user based on those features.\n",
    "I will start creating some lists with features to perform specific operations (mean, max, min) and then applying those aggregate functions."
   ]
  },
  {
   "cell_type": "code",
   "execution_count": null,
   "metadata": {},
   "outputs": [],
   "source": [
    "features = event_log4.schema.names  # Retrieve all feature names\n",
    "\n",
    "page_features = [f for f in features if f.startswith('page_')]  # One-hot encoding from the 'page' feature\n",
    "page_features.remove('page_is_CancellationConfirmation')  # Remove CancellationConfirmation and Cancel since they\n",
    "page_features.remove('page_is_Cancel')                    # will be part of the label to predict, not the features.\n",
    "\n",
    "browser_features = [f for f in features if f.startswith('browser_')]  # One-hot encoding from the 'browser' feature\n",
    "os_features = [f for f in features if f.startswith('os_')]  # One-hot encoding from the 'os' feature\n",
    "state_features = [f for f in features if f.endswith('_is_state')]  # One-hot encoding from the 'state' feature\n",
    "\n",
    "# features to be averaged\n",
    "avg_features = ['isWeekend', 'isAfternoon', 'songRank', 'is_female', 'artistRank',\n",
    "                'usersPerSession', 'length', 'paid'] + \\\n",
    "                os_features + browser_features + state_features + page_features\n",
    "# features to take max from.\n",
    "max_features = ['page_is_CancellationConfirmation', 'ts']\n",
    "# features to take min from.\n",
    "min_features = ['ts']"
   ]
  },
  {
   "cell_type": "code",
   "execution_count": null,
   "metadata": {},
   "outputs": [],
   "source": [
    "# Create new dataframes for the aggregate functions\n",
    "event_log_avg = event_log4.select(avg_features + ['userId']).groupBy('userId').mean()\n",
    "event_log_max = event_log4.select(max_features + ['userId']).groupBy('userId').max()\n",
    "event_log_min = event_log4.select(min_features + ['userId']).groupBy('userId').min()\n",
    "event_log_count = event_log4.groupBy('userId').count()\n",
    "\n",
    "# Join all the dataframes into a 'user_df'\n",
    "dfs = [event_log_avg, event_log_max, event_log_min, event_log_count]\n",
    "user_df = reduce(lambda x, y: x.join(y, ['userId'], how='inner'), dfs)\n",
    "\n",
    "# Create a new feature called 'totalTime'\n",
    "user_df = user_df.withColumn('totalTime', col('max(ts)') - col('min(ts)')) \\\n",
    "                 .drop('min(ts)') \\\n",
    "                 .drop('max(ts)')\n",
    "\n",
    "#user_df = user_df.withColumn('lastWeekStarts', col('max(ts)') - 7*24*3600*1000) \\\n",
    "                 \n",
    "# Create a new feature called 'events_per_day'\n",
    "user_df = user_df.withColumn('events_per_day', col('count')/col('totalTime')*24*3600000) "
   ]
  },
  {
   "cell_type": "markdown",
   "metadata": {},
   "source": [
    "### Latest behaviour (last week)"
   ]
  },
  {
   "cell_type": "markdown",
   "metadata": {},
   "source": [
    "user_lastWeek = user_df.select(['userId','lastWeekStarts']).toPandas()\n",
    "user_lastWeek.set_index('userId', inplace=True)"
   ]
  },
  {
   "cell_type": "markdown",
   "metadata": {},
   "source": [
    "user_lastWeek.loc['100'].values[0]"
   ]
  },
  {
   "cell_type": "markdown",
   "metadata": {},
   "source": [
    "for user in user_lastWeek.index:\n",
    "    print(user, user_lastWeek.loc[user].values[0])\n",
    "    lastWeek_user_events = event_log4.filter((event_log4.ts > user_lastWeek.loc[str(user)].values[0])) \n",
    "    "
   ]
  },
  {
   "cell_type": "markdown",
   "metadata": {},
   "source": [
    "Let us look a bit at what our data looks like for now:"
   ]
  },
  {
   "cell_type": "code",
   "execution_count": null,
   "metadata": {},
   "outputs": [],
   "source": [
    "final_features = user_df.schema.names\n",
    "n = 4\n",
    "intervals = zip(range(0, len(final_features), n), range(n, len(final_features), n))\n",
    "for i, j in intervals:\n",
    "    user_df.select(final_features[i:j]).show(3)"
   ]
  },
  {
   "cell_type": "markdown",
   "metadata": {},
   "source": [
    "As a final step we will save this data. This is a expensive step but it will hugely increase the computation times for modelling and model tuning. The data will have 3 features: the features to model on, the label (churn) and the userId. UserId is necessary to perform a sensible split between train and test data later on."
   ]
  },
  {
   "cell_type": "code",
   "execution_count": null,
   "metadata": {},
   "outputs": [],
   "source": [
    "features = [x for x in final_features if x not in ['max(page_is_CancellationConfirmation)',\n",
    "                                                   'userId']]"
   ]
  },
  {
   "cell_type": "code",
   "execution_count": null,
   "metadata": {},
   "outputs": [],
   "source": [
    "assembler = VectorAssembler(inputCols=features,\n",
    "                            outputCol='features', handleInvalid='skip')\n",
    "df = assembler.transform(user_df)\n",
    "df = df.select(col('features'),col('max(page_is_CancellationConfirmation)').alias('label'), col('userId'))"
   ]
  },
  {
   "cell_type": "code",
   "execution_count": null,
   "metadata": {},
   "outputs": [],
   "source": [
    "df.write.save('transformed_user_data', format=\"parquet\", header=True)"
   ]
  },
  {
   "cell_type": "markdown",
   "metadata": {},
   "source": [
    "# Modelling\n",
    "To perform modelling operations we will use the saved data, since all the DAG has been executed when saving the data to file it will drastically decrease the execution time of these steps"
   ]
  },
  {
   "cell_type": "code",
   "execution_count": null,
   "metadata": {},
   "outputs": [],
   "source": [
    "df = spark.read.parquet('transformed_user_data')"
   ]
  },
  {
   "cell_type": "code",
   "execution_count": null,
   "metadata": {},
   "outputs": [],
   "source": [
    "df.printSchema()"
   ]
  },
  {
   "cell_type": "code",
   "execution_count": null,
   "metadata": {},
   "outputs": [],
   "source": [
    "df.show(5)"
   ]
  },
  {
   "cell_type": "markdown",
   "metadata": {},
   "source": [
    "We will start by splitting our dataset into train (75%) and test set (25%) and chech if the number of churned users is split evenly between train and test set"
   ]
  },
  {
   "cell_type": "code",
   "execution_count": null,
   "metadata": {},
   "outputs": [],
   "source": [
    "r_seed = 40\n",
    "train, test = df.randomSplit([0.7, 0.3], seed=r_seed)"
   ]
  },
  {
   "cell_type": "code",
   "execution_count": null,
   "metadata": {},
   "outputs": [],
   "source": [
    "train_1 = train.filter(train.label == 1).count()\n",
    "train_all = train.count()\n",
    "test_1 = test.filter(train.label == 1).count()\n",
    "test_all = test.count()\n",
    "print('{} churned of {} users, {:.1f} % of users'.format(train_1, train_all, train_1/train_all*100))\n",
    "print('{} churned of {} users, {:.1f} % of users'.format(test_1, test_all, test_1/test_all*100))"
   ]
  },
  {
   "cell_type": "markdown",
   "metadata": {},
   "source": [
    "We will look into 3 of the most common classifiers of pyspark: random forest classifier, logistic regression classifier, and multilayer perceptron classifier."
   ]
  },
  {
   "cell_type": "code",
   "execution_count": null,
   "metadata": {},
   "outputs": [],
   "source": [
    "# Random Forest Classifier\n",
    "models = {}\n",
    "rf = RandomForestClassifier(labelCol=\"label\", featuresCol=\"features\", seed=r_seed,\n",
    "                                       numTrees=20,\n",
    "                                       maxDepth=10,\n",
    "                                       minInstancesPerNode=1)\n",
    "models['rf'] = rf.fit(train)"
   ]
  },
  {
   "cell_type": "code",
   "execution_count": null,
   "metadata": {},
   "outputs": [],
   "source": [
    "# Logistic Regression\n",
    "lr = LogisticRegression()\n",
    "models['lr'] = lr.fit(train)"
   ]
  },
  {
   "cell_type": "code",
   "execution_count": null,
   "metadata": {},
   "outputs": [],
   "source": [
    "# NeuralNet\n",
    "inputs = df.take(1)[0][0].size\n",
    "layers = [inputs, inputs, inputs//2, inputs//4, inputs//8,  2]\n",
    "mpc = MultilayerPerceptronClassifier(maxIter=1000, layers=layers, blockSize=256, seed=r_seed)\n",
    "models['mpc'] = mpc.fit(train)"
   ]
  },
  {
   "cell_type": "code",
   "execution_count": null,
   "metadata": {},
   "outputs": [],
   "source": [
    "# We will create a function that prints out basic evaluation metrics\n",
    "def print_confusion_matrix(predictions):\n",
    "    tp = predictions[(predictions.label == 1) & (predictions.prediction == 1)].count()\n",
    "    tn = predictions[(predictions.label == 0) & (predictions.prediction == 0)].count()\n",
    "    fp = predictions[(predictions.label == 0) & (predictions.prediction == 1)].count()\n",
    "    fn = predictions[(predictions.label == 1) & (predictions.prediction == 0)].count()\n",
    "    np = predictions[predictions.prediction == 0].count()\n",
    "    pp = predictions[predictions.prediction == 1].count()\n",
    "    nl = predictions[predictions.label == 0].count()\n",
    "    pl = predictions[predictions.label == 1].count()\n",
    "    t = predictions.count()\n",
    "    print(\"Positives in Test set:\", pl)\n",
    "    print(\"Negatives in Test set:\", nl) \n",
    "    print(\"Predicted Positives:\", pp) \n",
    "    print(\"Predicted Negatives:\", np) \n",
    "    print(\"Total\",t ) \n",
    "\n",
    "    print(\"True Positives:\", tp)\n",
    "    print(\"True Negatives:\", tn) \n",
    "    print(\"False Positives:\", fp) \n",
    "    print(\"False Negatives:\", fn) \n",
    "    try:\n",
    "        p = tp/(tp + fp)\n",
    "        print(\"Precision:\", p)\n",
    "        r = tp/(tp + fn)\n",
    "        print(\"Recall:\", r)\n",
    "        print(\"Accuracy:\", (tp +tn)/(t))\n",
    "        print(\"F1:\", 2 * p * r / (p + r))\n",
    "    except ZeroDivisionError:\n",
    "        print('Could not calculte due to division by zero')"
   ]
  },
  {
   "cell_type": "code",
   "execution_count": null,
   "metadata": {},
   "outputs": [],
   "source": [
    "for name,  model in models.items():\n",
    "    predictions = model.transform(test)\n",
    "    print('########## {} ##########'.format(name))\n",
    "    print_confusion_matrix(predictions)"
   ]
  },
  {
   "cell_type": "markdown",
   "metadata": {},
   "source": [
    "The logistic regression model seems to be promision. I will perform a gridSearch on the hyperparameters of the logistic regressor to tune the model.\n",
    "\n",
    "* Scale the parameters with a min-max scaler\n",
    "* Create pipeline witht he scaler and the logistic regressor.\n",
    "* Create a simple evaluator for f1, precision and recall.\n",
    "* Create a parametric grid for the a cross validation to evaluate"
   ]
  },
  {
   "cell_type": "code",
   "execution_count": null,
   "metadata": {},
   "outputs": [],
   "source": [
    "class myEvaluator(Evaluator):\n",
    "\n",
    "    def __init__(self, predictionCol=\"prediction\", labelCol=\"label\", metricName='recall'):\n",
    "        self.predictionCol = predictionCol\n",
    "        self.labelCol = labelCol\n",
    "        self.metricName = metricName\n",
    "        \n",
    "    def _evaluate(self, dataset):\n",
    "        \"\"\"\n",
    "        Evaluates the dataset performance, either recall, precision or accuracy\n",
    "        \"\"\"\n",
    "        tp = dataset[(dataset[self.labelCol] == 1) & (dataset[self.predictionCol] == 1)].count()\n",
    "        tn = dataset[(dataset[self.labelCol] == 0) & (dataset[self.predictionCol] == 0)].count()\n",
    "        fp = dataset[(dataset[self.labelCol] == 0) & (dataset[self.predictionCol] == 1)].count()\n",
    "        fn = dataset[(dataset[self.labelCol] == 1) & (dataset[self.predictionCol] == 0)].count()\n",
    "        t = dataset.count()\n",
    "        \n",
    "        if self.metricName == 'recall':\n",
    "            try:\n",
    "                return tp/(tp + fn)\n",
    "            except ZeroDivisionError:\n",
    "                warnings.warn('Division by 0!')\n",
    "                return 0\n",
    "        elif self.metricName == 'precision':\n",
    "            try:\n",
    "                return tp/(tp + fp)\n",
    "            except ZeroDivisionError:\n",
    "                warnings.warn('Division by 0!')\n",
    "                return 0\n",
    "        elif self.metricName == 'accuracy':\n",
    "            try:\n",
    "                return (tp +tn)/(t)\n",
    "            except ZeroDivisionError:\n",
    "                warnings.warn('Division by 0!')\n",
    "                return 0\n",
    "        elif self.metricName == 'f1':\n",
    "            try:\n",
    "                p = tp/(tp + fp)\n",
    "                r = tp/(tp + fn)\n",
    "                return 2 * p * r / (p + r)\n",
    "            except ZeroDivisionError:\n",
    "                warnings.warn('Division by 0!')\n",
    "                return 0\n",
    "        else:\n",
    "            raise ValueError('Unknown metric, the implemented metrics are : recall, precision and accuracy')\n",
    "            \n",
    "    def isLargerBetter(self):\n",
    "        return True"
   ]
  },
  {
   "cell_type": "markdown",
   "metadata": {},
   "source": [
    "# Logistic Regression"
   ]
  },
  {
   "cell_type": "code",
   "execution_count": null,
   "metadata": {},
   "outputs": [],
   "source": [
    "scaler = MinMaxScaler(inputCol=\"features\", outputCol=\"scaledFeatures\")\n",
    "\n",
    "lr = LogisticRegression(featuresCol=\"scaledFeatures\")\n",
    "\n",
    "pipeline = Pipeline(stages=[scaler, lr])\n",
    "\n",
    "evaluator = myEvaluator(metricName='f1')\n",
    "\n",
    "paramGrid = ParamGridBuilder()\\\n",
    "    .addGrid(lr.maxIter, [10, 100, 1000]) \\\n",
    "    .addGrid(lr.regParam, [0, 0.15, 0.3])\\\n",
    "    .addGrid(lr.elasticNetParam, [0, 0.1, 0.3])\\\n",
    "    .addGrid(lr.standardization , [True, False]) \\\n",
    "    .addGrid(lr.aggregationDepth, [2, 3, 4]) \\\n",
    "    .build()\n",
    "\n",
    "cv_lr = CrossValidator(estimator=pipeline, \n",
    "                    estimatorParamMaps=paramGrid, evaluator=evaluator, numFolds=3, seed=43)"
   ]
  },
  {
   "cell_type": "code",
   "execution_count": null,
   "metadata": {},
   "outputs": [],
   "source": [
    "model_lr = cv_lr.fit(train)"
   ]
  },
  {
   "cell_type": "code",
   "execution_count": null,
   "metadata": {},
   "outputs": [],
   "source": [
    "bestModel_lr = model_lr.bestModel"
   ]
  },
  {
   "cell_type": "code",
   "execution_count": null,
   "metadata": {},
   "outputs": [],
   "source": [
    "predictions = bestModel_lr.transform(test)\n",
    "print_confusion_matrix(predictions)"
   ]
  },
  {
   "cell_type": "code",
   "execution_count": null,
   "metadata": {},
   "outputs": [],
   "source": [
    "print(bestModel_lr.stages[1]._java_obj.getMaxIter())\n",
    "print(bestModel_lr.stages[1]._java_obj.getRegParam())\n",
    "print(bestModel_lr.stages[1]._java_obj.getElasticNetParam())\n",
    "print(bestModel_lr.stages[1]._java_obj.getStandardization ())\n",
    "print(bestModel_lr.stages[1]._java_obj.getAggregationDepth ())"
   ]
  },
  {
   "cell_type": "markdown",
   "metadata": {},
   "source": [
    "# Random Forest"
   ]
  },
  {
   "cell_type": "code",
   "execution_count": null,
   "metadata": {},
   "outputs": [],
   "source": [
    "scaler = MinMaxScaler(inputCol=\"features\", outputCol=\"scaledFeatures\")\n",
    "\n",
    "rf = RandomForestClassifier(featuresCol=\"scaledFeatures\")\n",
    "\n",
    "pipeline = Pipeline(stages=[scaler, rf])\n",
    "\n",
    "evaluator = myEvaluator(metricName='f1')\n",
    "\n",
    "paramGrid = ParamGridBuilder()\\\n",
    "    .addGrid(rf.numTrees, [10, 50, 100]) \\\n",
    "    .addGrid(rf.maxDepth, [2, 5, 10, 30])\\\n",
    "    .addGrid(rf.minInstancesPerNode, [1, 2, 5]) \\\n",
    "    .build()\n",
    "\n",
    "cv_rf = CrossValidator(estimator=pipeline, \n",
    "                    estimatorParamMaps=paramGrid, evaluator=evaluator, numFolds=3, seed=43)"
   ]
  },
  {
   "cell_type": "code",
   "execution_count": null,
   "metadata": {},
   "outputs": [],
   "source": [
    "model_rf = cv_rf.fit(train)\n",
    "\n",
    "bestModel_rf = model_rf.bestModel"
   ]
  },
  {
   "cell_type": "code",
   "execution_count": null,
   "metadata": {},
   "outputs": [],
   "source": [
    "predictions = bestModel_rf.transform(test)\n",
    "print_confusion_matrix(predictions)"
   ]
  },
  {
   "cell_type": "code",
   "execution_count": null,
   "metadata": {},
   "outputs": [],
   "source": [
    "print(bestModel_rf.stages[1]._java_obj.getNumTrees())\n",
    "print(bestModel_rf.stages[1]._java_obj.getMaxDepth())\n",
    "print(bestModel_rf.stages[1]._java_obj.getMinInstancesPerNode())\n"
   ]
  },
  {
   "cell_type": "markdown",
   "metadata": {},
   "source": [
    "# Final Steps\n",
    "Clean up your code, adding comments and renaming variables to make the code easier to read and maintain. Refer to the Spark Project Overview page and Data Scientist Capstone Project Rubric to make sure you are including all components of the capstone project and meet all expectations. Remember, this includes thorough documentation in a README file in a Github repository, as well as a web app or blog post."
   ]
  },
  {
   "cell_type": "code",
   "execution_count": null,
   "metadata": {},
   "outputs": [],
   "source": []
  }
 ],
 "metadata": {
  "kernelspec": {
   "display_name": "Python 3",
   "language": "python",
   "name": "python3"
  },
  "language_info": {
   "codemirror_mode": {
    "name": "ipython",
    "version": 3
   },
   "file_extension": ".py",
   "mimetype": "text/x-python",
   "name": "python",
   "nbconvert_exporter": "python",
   "pygments_lexer": "ipython3",
   "version": "3.7.2"
  }
 },
 "nbformat": 4,
 "nbformat_minor": 2
}
